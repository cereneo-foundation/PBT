{
 "cells": [
  {
   "cell_type": "code",
   "execution_count": 92,
   "outputs": [],
   "source": [
    "%reset -f\n"
   ],
   "metadata": {
    "collapsed": false,
    "ExecuteTime": {
     "end_time": "2023-07-30T14:14:15.770127100Z",
     "start_time": "2023-07-30T14:14:15.761126800Z"
    }
   }
  },
  {
   "cell_type": "code",
   "execution_count": 93,
   "outputs": [
    {
     "name": "stdout",
     "output_type": "stream",
     "text": [
      "Cereneo_FP_14_Int_01 Cereneo_FP_14_Int_01.5.c3d-cmos.Marker.x.Left-normalised.csv\n",
      "Cereneo_FP_14_Int_01 Cereneo_FP_14_Int_01.5.c3d-cmos.Marker.y.Left-normalised.csv\n",
      "Cereneo_FP_18_Int_01 Cereneo_FP_18_Int_01.5.c3d-cmos.Marker.x.Left-normalised.csv\n",
      "Cereneo_FP_18_Int_01 Cereneo_FP_18_Int_01.5.c3d-cmos.Marker.y.Left-normalised.csv\n",
      "Cereneo_FP_19_Int_01 Cereneo_FP_19_Int_01.5.c3d-cmos.Marker.x.Left-normalised.csv\n",
      "Cereneo_FP_19_Int_01 Cereneo_FP_19_Int_01.5.c3d-cmos.Marker.y.Left-normalised.csv\n",
      "Cereneo_FP_20_Int_01 Cereneo_FP_20_Int_01.5.c3d-cmos.Marker.x.Left-normalised.csv\n",
      "Cereneo_FP_20_Int_01 Cereneo_FP_20_Int_01.5.c3d-cmos.Marker.y.Left-normalised.csv\n",
      "Cereneo_FP_22_Int_01 Cereneo_FP_22_Int_01.5.c3d-cmos.Marker.x.Left-normalised.csv\n",
      "Cereneo_FP_22_Int_01 Cereneo_FP_22_Int_01.5.c3d-cmos.Marker.y.Left-normalised.csv\n",
      "Cereneo_FP_26_Int_01 Cereneo_FP_26_Int_01.5.c3d-cmos.Marker.x.Left-normalised.csv\n",
      "Cereneo_FP_26_Int_01 Cereneo_FP_26_Int_01.5.c3d-cmos.Marker.y.Left-normalised.csv\n",
      "Cereneo_FP_29_Int_01 Cereneo_FP_29_Int_01.5.c3d-cmos.Marker.x.Left-normalised.csv\n",
      "Cereneo_FP_29_Int_01 Cereneo_FP_29_Int_01.5.c3d-cmos.Marker.y.Left-normalised.csv\n",
      "Cereneo_FP_30_Int_01 Cereneo_FP_30_Int_01.5.c3d-cmos.Marker.x.Left-normalised.csv\n",
      "Cereneo_FP_30_Int_01 Cereneo_FP_30_Int_01.5.c3d-cmos.Marker.y.Left-normalised.csv\n",
      "Cereneo_FP_34_Int_01 Cereneo_FP_34_Int_01.5.c3d-cmos.Marker.x.Left-normalised.csv\n",
      "Cereneo_FP_34_Int_01 Cereneo_FP_34_Int_01.5.c3d-cmos.Marker.y.Left-normalised.csv\n",
      "Cereneo_FP_38_Int_01 Cereneo_FP_38_Int_01.5.c3d-cmos.Marker.x.Left-normalised.csv\n",
      "Cereneo_FP_38_Int_01 Cereneo_FP_38_Int_01.5.c3d-cmos.Marker.y.Left-normalised.csv\n",
      "Cereneo_FP_42_Int_01 Cereneo_FP_42_Int_01.5.c3d-cmos.Marker.x.Left-normalised.csv\n",
      "Cereneo_FP_42_Int_01 Cereneo_FP_42_Int_01.5.c3d-cmos.Marker.y.Left-normalised.csv\n"
     ]
    }
   ],
   "source": [
    "import os\n",
    "import pandas as pd\n",
    "\n",
    "# read cmos files\n",
    "part_cmos_ap = {}\n",
    "part_cmos_ml = {}\n",
    "\n",
    "for root, sub_folders, file_names in os.walk(os.path.realpath(\"./data/buffer/\")):\n",
    "    if len(file_names) > 0:\n",
    "        for file_name in file_names:\n",
    "            if \"-cmos.\" in file_name and \"-normalised.\" in file_name and \\\n",
    "                    (\".x.Left\" in file_name or \".y.Left\" in file_name):\n",
    "                print(f\"{os.path.basename(root)} {file_name}\")\n",
    "                tmp_part_table = pd.read_csv(os.path.join(root,file_name))\n",
    "                cmos_table = tmp_part_table.drop(tmp_part_table.columns[[0,1,2,3,4,5]], axis=1)\n",
    "                cmos_table.columns = list(map(int,cmos_table.columns))\n",
    "                if  \".x.Left\" in file_name:\n",
    "                    part_cmos_ml[os.path.basename(root)] = cmos_table\n",
    "                    tmp_part_meta = tmp_part_table[[\"cycle_number\", \"start_frame\", \"end_frame\", \"Foot_Off_Contra\", \"Foot_Strike_Contra\", \"Foot_Off\"]]\n",
    "                    tmp_part_meta.to_csv(f\"./data/part_meta/{os.path.basename(root)}.csv\")\n",
    "                else:\n",
    "                    part_cmos_ap[os.path.basename(root)] = cmos_table"
   ],
   "metadata": {
    "collapsed": false,
    "ExecuteTime": {
     "end_time": "2023-07-30T14:14:16.330388100Z",
     "start_time": "2023-07-30T14:14:15.768132400Z"
    }
   }
  },
  {
   "cell_type": "code",
   "execution_count": 94,
   "outputs": [
    {
     "data": {
      "text/plain": "['part_cmos_ap', 'part_cmos_ml']"
     },
     "execution_count": 94,
     "metadata": {},
     "output_type": "execute_result"
    }
   ],
   "source": [
    "%reset_selective -f ^(?!part_*).*$\n",
    "%who_ls"
   ],
   "metadata": {
    "collapsed": false,
    "ExecuteTime": {
     "end_time": "2023-07-30T14:14:16.374522600Z",
     "start_time": "2023-07-30T14:14:16.340524200Z"
    }
   }
  },
  {
   "cell_type": "code",
   "execution_count": 95,
   "outputs": [],
   "source": [
    "import pandas as pd\n",
    "import numpy as np\n",
    "# prepare normal walking data\n",
    "keys = list(part_cmos_ml.keys())\n",
    "\n",
    "columns =  np.arange(0,100)\n",
    "cmos_ml_mean = pd.DataFrame(index=keys, columns=columns)\n",
    "cmos_ml_sd = pd.DataFrame(index=keys, columns=columns)\n",
    "cmos_ap_mean = pd.DataFrame(index=keys, columns=columns)\n",
    "cmos_ap_sd = pd.DataFrame(index=keys, columns=columns)\n",
    "for key in part_cmos_ml.keys():\n",
    "    cmos_ml_mean.loc[key] = part_cmos_ml[key].loc[1:11,].mean()\n",
    "    cmos_ml_sd.loc[key] = part_cmos_ml[key].loc[1:11,].std()\n",
    "    cmos_ap_mean.loc[key] = part_cmos_ap[key].loc[1:11,].mean()\n",
    "    cmos_ap_sd.loc[key] = part_cmos_ap[key].loc[1:11,].std()\n",
    "\n",
    "cmos_ap_mean.to_csv(\"./prepared_data/walk_cmos_ap_mean.csv\")\n",
    "cmos_ap_sd.to_csv(\"./prepared_data/walk_cmos_ap_sd.csv\")\n",
    "cmos_ml_mean.to_csv(\"./prepared_data/walk_cmos_ml_mean.csv\")\n",
    "cmos_ml_sd.to_csv(\"./prepared_data/walk_cmos_ml_sd.csv\")"
   ],
   "metadata": {
    "collapsed": false,
    "ExecuteTime": {
     "end_time": "2023-07-30T14:14:16.507498200Z",
     "start_time": "2023-07-30T14:14:16.362528700Z"
    }
   }
  },
  {
   "cell_type": "code",
   "execution_count": 100,
   "outputs": [],
   "source": [
    "%reset_selective -f ^(?!part_*).*$\n",
    "%who_ls"
   ],
   "metadata": {
    "collapsed": false,
    "ExecuteTime": {
     "end_time": "2023-07-30T14:15:30.758434400Z",
     "start_time": "2023-07-30T14:15:30.751359800Z"
    }
   }
  },
  {
   "cell_type": "code",
   "execution_count": 106,
   "outputs": [
    {
     "name": "stdout",
     "output_type": "stream",
     "text": [
      "['FP_03' 'FP_04' 'FP_05' 'FP_06' 'FP_08' 'FP_12' 'FP_15' 'FP_16' 'FP_23'\n",
      " 'FP_24' 'FP_25' 'FP_31' 'FP_32' 'FP_33' 'FP_35' 'FP_36' 'FP_37' 'FP_45'\n",
      " 'FP_46' 'FP_48' 'FP_50 ']\n"
     ]
    }
   ],
   "source": [
    "import pandas as pd\n",
    "import os\n",
    "\n",
    "pert_points = pd.read_csv(\"./settings/perturbations.csv\", index_col=\"id\")\n",
    "subs = pert_points.Subject.unique()\n",
    "\n",
    "for root, sub_folders, file_names in os.walk(os.path.realpath(\"./data/part_meta/\")):\n",
    "    for file_name in file_names:\n",
    "        for sub in subs:\n",
    "            if sub in file_name:\n",
    "                print(file_name)\n"
   ],
   "metadata": {
    "collapsed": false,
    "ExecuteTime": {
     "end_time": "2023-07-30T14:23:01.295594200Z",
     "start_time": "2023-07-30T14:23:01.274610700Z"
    }
   }
  },
  {
   "cell_type": "code",
   "execution_count": null,
   "outputs": [],
   "source": [],
   "metadata": {
    "collapsed": false
   }
  }
 ],
 "metadata": {
  "kernelspec": {
   "display_name": "Python 3",
   "language": "python",
   "name": "python3"
  },
  "language_info": {
   "codemirror_mode": {
    "name": "ipython",
    "version": 2
   },
   "file_extension": ".py",
   "mimetype": "text/x-python",
   "name": "python",
   "nbconvert_exporter": "python",
   "pygments_lexer": "ipython2",
   "version": "2.7.6"
  }
 },
 "nbformat": 4,
 "nbformat_minor": 0
}
